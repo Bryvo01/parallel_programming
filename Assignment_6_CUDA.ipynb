{
  "nbformat": 4,
  "nbformat_minor": 0,
  "metadata": {
    "colab": {
      "provenance": [],
      "gpuType": "T4",
      "include_colab_link": true
    },
    "kernelspec": {
      "name": "python3",
      "display_name": "Python 3"
    },
    "language_info": {
      "name": "python"
    },
    "accelerator": "GPU"
  },
  "cells": [
    {
      "cell_type": "markdown",
      "metadata": {
        "id": "view-in-github",
        "colab_type": "text"
      },
      "source": [
        "<a href=\"https://colab.research.google.com/github/Bryvo01/parallel_programming/blob/main/Assignment_6_CUDA.ipynb\" target=\"_parent\"><img src=\"https://colab.research.google.com/assets/colab-badge.svg\" alt=\"Open In Colab\"/></a>"
      ]
    },
    {
      "cell_type": "markdown",
      "source": [
        "# Assignment 6 CUDA\n",
        "\n",
        "* Due: 04/12/2024 Friday 11:59pm\n",
        "\n",
        "* Submit your k_means.cu to Canvas. The file name must be k_means.cu"
      ],
      "metadata": {
        "id": "SVFlDwHkQX8t"
      }
    },
    {
      "cell_type": "markdown",
      "source": [
        "## Instructions -- Setup"
      ],
      "metadata": {
        "id": "1keI11Q0Rn78"
      }
    },
    {
      "cell_type": "markdown",
      "source": [
        "### Step 1: Allocate GPU Instance\n",
        "\n",
        "1. From menu \"Edit\", select \"Notebook settings\"\n",
        "2. In \"Notebook settings\" select \"T4 GPU\" as the hardware accelerator.\n",
        "3. \"Save\" the setting.\n",
        "4. Note that Google may refuse allocating GPU to your account if you use GPU frequently for prolonged time. You may need a different account or wait a day or two for the \"ban\" to pass."
      ],
      "metadata": {
        "id": "fnyWXlevQuzf"
      }
    },
    {
      "cell_type": "markdown",
      "source": [
        "### Step 2: Clone the base file repository\n",
        "1. Please runt he following code cell\n",
        "\n",
        "2. Note that \"%%shell\" indicates the next cell is \"shell\" code, not Python\n",
        "\n",
        "3. Note that, Colab run in a \"volatile\" Virtual Machine (VM) in the clone. When you exit Colab, the VM is destroyed and all of your files will be deleted. **So you need to re-run this \"git clone\" every time you start a new Colab session.**\n",
        "\n",
        "4. Because files are not saved, you will also need to **download and save your source files**, and reupload them every time you start a new Colab session."
      ],
      "metadata": {
        "id": "E44YmmKFTvdE"
      }
    },
    {
      "cell_type": "code",
      "execution_count": null,
      "metadata": {
        "id": "UP8dyehDQSvf",
        "colab": {
          "base_uri": "https://localhost:8080/"
        },
        "outputId": "69118602-4ccd-4621-d902-b21b7abdfb9a"
      },
      "outputs": [
        {
          "output_type": "stream",
          "name": "stdout",
          "text": [
            "Cloning into 'Parallel_Programming'...\n",
            "remote: Enumerating objects: 31, done.\u001b[K\n",
            "remote: Counting objects: 100% (31/31), done.\u001b[K\n",
            "remote: Compressing objects: 100% (26/26), done.\u001b[K\n",
            "remote: Total 31 (delta 2), reused 28 (delta 2), pack-reused 0\u001b[K\n",
            "Receiving objects: 100% (31/31), 170.74 KiB | 8.54 MiB/s, done.\n",
            "Resolving deltas: 100% (2/2), done.\n"
          ]
        },
        {
          "output_type": "execute_result",
          "data": {
            "text/plain": []
          },
          "metadata": {},
          "execution_count": 1
        }
      ],
      "source": [
        "%%shell\n",
        "\n",
        "git clone https://github.com/ProgrammingEduBVI/Parallel_Programming.git"
      ]
    },
    {
      "cell_type": "markdown",
      "source": [
        "### Step 3: Verify CUDA\n",
        "\n",
        "1. Verify if CUDA works by running the following code cells\n",
        "2. If anything goes wrong, you may need to restart the VM runtime  using the \"Runtime\" menu. If the problem persists, please contact us."
      ],
      "metadata": {
        "id": "t3KETdv4UJ6H"
      }
    },
    {
      "cell_type": "code",
      "source": [
        "%%shell\n",
        "\n",
        "cd Parallel_Programming/CUDA_Examples\n",
        "make"
      ],
      "metadata": {
        "colab": {
          "base_uri": "https://localhost:8080/"
        },
        "id": "rvWYwsSmVF_5",
        "outputId": "9eacc16a-21a4-41e7-e882-3114d054183d"
      },
      "execution_count": null,
      "outputs": [
        {
          "output_type": "stream",
          "name": "stdout",
          "text": [
            "nvcc -c -o hello_world.o hello_world.cu \n",
            "nvcc -c -o vector_add.o vector_add.cu \n",
            "nvcc -c -o static_shared_memory.o static_shared_memory.cu \n",
            "nvcc -c -o dynamic_shared_memory.o dynamic_shared_memory.cu \n",
            "nvcc   -o hello_world.bin hello_world.o \n",
            "nvcc   -o vector_add.bin vector_add.o \n",
            "nvcc   -o static_shared_memory.bin static_shared_memory.o \n",
            "nvcc   -o dynamic_shared_memory.bin dynamic_shared_memory.o \n"
          ]
        },
        {
          "output_type": "execute_result",
          "data": {
            "text/plain": []
          },
          "metadata": {},
          "execution_count": 2
        }
      ]
    },
    {
      "cell_type": "code",
      "source": [
        "%%shell\n",
        "Parallel_Programming/CUDA_Examples/hello_world.bin"
      ],
      "metadata": {
        "colab": {
          "base_uri": "https://localhost:8080/"
        },
        "id": "0KocP4hwVait",
        "outputId": "7829d972-3df8-46e4-c694-47b0c653dff5"
      },
      "execution_count": null,
      "outputs": [
        {
          "output_type": "stream",
          "name": "stdout",
          "text": [
            "Hello World!\n"
          ]
        },
        {
          "output_type": "execute_result",
          "data": {
            "text/plain": []
          },
          "metadata": {},
          "execution_count": 3
        }
      ]
    },
    {
      "cell_type": "code",
      "source": [
        "%%shell\n",
        "Parallel_Programming/CUDA_Examples/vector_add.bin"
      ],
      "metadata": {
        "colab": {
          "base_uri": "https://localhost:8080/"
        },
        "id": "os9ITgAWVj0p",
        "outputId": "67078b72-d852-4bb9-e531-36fcfc119e6e"
      },
      "execution_count": null,
      "outputs": [
        {
          "output_type": "stream",
          "name": "stdout",
          "text": [
            "Results are correct.\n",
            "Execution time is 0.169698 s\n"
          ]
        },
        {
          "output_type": "execute_result",
          "data": {
            "text/plain": []
          },
          "metadata": {},
          "execution_count": 4
        }
      ]
    },
    {
      "cell_type": "code",
      "source": [
        "%%shell\n",
        "Parallel_Programming/CUDA_Examples/static_shared_memory.bin"
      ],
      "metadata": {
        "colab": {
          "base_uri": "https://localhost:8080/"
        },
        "id": "Jl9_z1oVVm21",
        "outputId": "60e08544-9594-484c-8536-d78f3dafb121"
      },
      "execution_count": null,
      "outputs": [
        {
          "output_type": "stream",
          "name": "stdout",
          "text": [
            "Results are correct.\n",
            "Execution time is 0.229142 s\n"
          ]
        },
        {
          "output_type": "execute_result",
          "data": {
            "text/plain": []
          },
          "metadata": {},
          "execution_count": 268
        }
      ]
    },
    {
      "cell_type": "code",
      "source": [
        "%%shell\n",
        "Parallel_Programming/CUDA_Examples/dynamic_shared_memory.bin"
      ],
      "metadata": {
        "colab": {
          "base_uri": "https://localhost:8080/"
        },
        "id": "ZfArSaZ-VxDu",
        "outputId": "0c104ca7-28f3-4ff4-e2f9-110373b91688"
      },
      "execution_count": null,
      "outputs": [
        {
          "output_type": "stream",
          "name": "stdout",
          "text": [
            "Results are correct.\n",
            "Execution time is 0.114352 s\n"
          ]
        },
        {
          "output_type": "execute_result",
          "data": {
            "text/plain": []
          },
          "metadata": {},
          "execution_count": 33
        }
      ]
    },
    {
      "cell_type": "markdown",
      "source": [
        "## Instructions -- CUDA Development"
      ],
      "metadata": {
        "id": "an-7N2o-ZYw8"
      }
    },
    {
      "cell_type": "markdown",
      "source": [
        "### Step 4: Coding\n",
        "\n",
        "1. Now you can start coding.\n",
        "2. Please double click the \"Parallel_Programming/Assignment_CUDA/source/k_means.cu\" file, and edit the it in the side panel.\n",
        "\n",
        "!!! **Make sure that you download and store your k_means.cu before you leave colab**\n",
        "\n",
        "!!! **Make sure that you download and store your k_means.cu before you leave colab**\n",
        "\n",
        "!!! **Make sure that you download and store your k_means.cu before you leave colab**"
      ],
      "metadata": {
        "id": "F5OAOzwyWE3v"
      }
    },
    {
      "cell_type": "markdown",
      "source": [
        "### Step 5: Compile\n",
        "1. Please use the following code cell to compile"
      ],
      "metadata": {
        "id": "U6vPwvMgXA7h"
      }
    },
    {
      "cell_type": "code",
      "source": [
        "%%shell\n",
        "\n",
        "cd Parallel_Programming/Assignment_CUDA/source\n",
        "make"
      ],
      "metadata": {
        "colab": {
          "base_uri": "https://localhost:8080/"
        },
        "id": "-4vNKJYUW--h",
        "outputId": "ea29e371-c950-489b-b190-651158c02e6d"
      },
      "execution_count": null,
      "outputs": [
        {
          "output_type": "stream",
          "name": "stdout",
          "text": [
            "nvcc -c -o main.o main.cu \n",
            "nvcc -c -o read_data.o read_data.cu \n",
            "\u001b[01m\u001b[0m\u001b[01mread_data.cu(26)\u001b[0m: \u001b[01;35mwarning\u001b[0m #550-D: variable \u001b[01m\"read\"\u001b[0m was set but never used\n",
            "   ssize_t read = 0;\n",
            "           ^\n",
            "\n",
            "\u001b[01;36m\u001b[0m\u001b[01;36mRemark\u001b[0m: The warnings can be suppressed with \"-diag-suppress <warning-number>\"\n",
            "\n",
            "nvcc -c -o k_means.o k_means.cu \n",
            "nvcc -c -o random.o random.cu \n",
            "nvcc   -o k_means main.o read_data.o k_means.o random.o -lm\n"
          ]
        },
        {
          "output_type": "execute_result",
          "data": {
            "text/plain": []
          },
          "metadata": {},
          "execution_count": 2
        }
      ]
    },
    {
      "cell_type": "markdown",
      "source": [
        "### Step 6: Test with Single Thread\n",
        "1. Please use the followign code cells to test your program."
      ],
      "metadata": {
        "id": "cRaDsLXIXTDn"
      }
    },
    {
      "cell_type": "markdown",
      "source": [
        "#### Test case 1\n",
        "\n",
        "Correct output:<br/>\n",
        "Reading from data file: ./data/example1_k2_m10.txt.<br/>\n",
        "Finding 2 clusters<br/>\n",
        "Block count is 1, threads per block is 1<br/>\n",
        "centers found:<br/>\n",
        "-85.972000, -13.155800<br/>\n",
        "40.270400, -185.246600<br/>\n",
        "<br/>\n",
        "real\t0m0.404s<br/>\n",
        "user\t0m0.140s<br/>\n",
        "sys\t0m0.251s<br/>"
      ],
      "metadata": {
        "id": "3D0cmNs2Zj7p"
      }
    },
    {
      "cell_type": "code",
      "source": [
        "%%shell\n",
        "\n",
        "cd Parallel_Programming/Assignment_CUDA/source/\n",
        "time ./k_means -f ./data/example1_k2_m10.txt -k 2 -i 100 -b 1 -t 1"
      ],
      "metadata": {
        "colab": {
          "base_uri": "https://localhost:8080/"
        },
        "id": "BSpRBmWGXZ2x",
        "outputId": "61c11a15-a823-46dc-8bf8-3ff287bddf78"
      },
      "execution_count": null,
      "outputs": [
        {
          "output_type": "stream",
          "name": "stdout",
          "text": [
            "Reading from data file: ./data/example1_k2_m10.txt.\n",
            "Finding 2 clusters\n",
            "Block count is 1, threads per block is 1\n",
            "centers found:\n",
            "-85.972000, -13.155800\n",
            "40.270400, -185.246600\n",
            "\n",
            "real\t0m0.404s\n",
            "user\t0m0.140s\n",
            "sys\t0m0.251s\n"
          ]
        },
        {
          "output_type": "execute_result",
          "data": {
            "text/plain": []
          },
          "metadata": {},
          "execution_count": 11
        }
      ]
    },
    {
      "cell_type": "markdown",
      "source": [
        "#### Test Case 2\n",
        "\n",
        "Correct output:<br/>\n",
        "Reading from data file: ./data/example2_k3_m30.txt.<br/>\n",
        "Finding 3 clusters<br/>\n",
        "Block count is 1, threads per block is 1<br/>\n",
        "centers found:<br/>\n",
        "-176.246700, -142.167900<br/>\n",
        "66.007900, 197.753900<br/>\n",
        "172.386200, 43.032900<br/>\n",
        "<br/>\n",
        "real\t0m0.228s<br/>\n",
        "user\t0m0.025s<br/>\n",
        "sys\t0m0.197s<br/>"
      ],
      "metadata": {
        "id": "m1CSscnsZu50"
      }
    },
    {
      "cell_type": "code",
      "source": [
        "%%shell\n",
        "\n",
        "cd Parallel_Programming/Assignment_CUDA/source/\n",
        "time ./k_means -f ./data/example2_k3_m30.txt -k 3 -i 100 -b 1 -t 1"
      ],
      "metadata": {
        "colab": {
          "base_uri": "https://localhost:8080/"
        },
        "id": "7UK8whekX_v0",
        "outputId": "e9e3c138-f666-4a56-88af-d1dafeae9493"
      },
      "execution_count": null,
      "outputs": [
        {
          "output_type": "stream",
          "name": "stdout",
          "text": [
            "Reading from data file: ./data/example2_k3_m30.txt.\n",
            "Finding 3 clusters\n",
            "Block count is 1, threads per block is 1\n",
            "centers found:\n",
            "-176.246700, -142.167900\n",
            "66.007900, 197.753900\n",
            "172.386200, 43.032900\n",
            "\n",
            "real\t0m0.228s\n",
            "user\t0m0.025s\n",
            "sys\t0m0.197s\n"
          ]
        },
        {
          "output_type": "execute_result",
          "data": {
            "text/plain": []
          },
          "metadata": {},
          "execution_count": 12
        }
      ]
    },
    {
      "cell_type": "markdown",
      "source": [
        "#### Test Case 3\n",
        "\n",
        "Correct output:<br/>\n",
        "Reading from data file: ./data/example3_k5_m500.txt.<br/>\n",
        "Finding 5 clusters<br/>\n",
        "Block count is 1, threads per block is 1<br/>\n",
        "centers found:<br/>\n",
        "120.734130, 133.607720<br/>\n",
        "-112.846840, 138.489590<br/>\n",
        "-70.184220, -71.774100<br/>\n",
        "-27.182890, 192.848140<br/>\n",
        "-174.815190, -45.055060<br/>\n",
        "<br/>\n",
        "real\t0m0.384s<br/>\n",
        "user\t0m0.108s<br/>\n",
        "sys\t0m0.248s<br/>"
      ],
      "metadata": {
        "id": "wOzLrcebZ8Ps"
      }
    },
    {
      "cell_type": "code",
      "source": [
        "%%shell\n",
        "\n",
        "cd Parallel_Programming/Assignment_CUDA/source/\n",
        "time ./k_means -f ./data/example3_k5_m500.txt -k 5 -i 100 -b 1 -t 1"
      ],
      "metadata": {
        "colab": {
          "base_uri": "https://localhost:8080/"
        },
        "id": "IBl35b_OYECw",
        "outputId": "030e3f02-16d2-4f8d-f395-3551749775b2"
      },
      "execution_count": null,
      "outputs": [
        {
          "output_type": "stream",
          "name": "stdout",
          "text": [
            "Reading from data file: ./data/example3_k5_m500.txt.\n",
            "Finding 5 clusters\n",
            "Block count is 1, threads per block is 1\n",
            "centers found:\n",
            "120.734130, 133.607720\n",
            "-112.846840, 138.489590\n",
            "-70.184220, -71.774100\n",
            "-27.182890, 192.848140\n",
            "-174.815190, -45.055060\n",
            "\n",
            "real\t0m0.384s\n",
            "user\t0m0.108s\n",
            "sys\t0m0.248s\n"
          ]
        },
        {
          "output_type": "execute_result",
          "data": {
            "text/plain": []
          },
          "metadata": {},
          "execution_count": 13
        }
      ]
    },
    {
      "cell_type": "markdown",
      "source": [
        "#### Test Case 4\n",
        "\n",
        "Correct output:<br/>\n",
        "Reading from data file: ./data/example4_k8_m10000.txt.<br/>\n",
        "Finding 8 clusters<br/>\n",
        "Block count is 1, threads per block is 1<br/>\n",
        "centers found:<br/>\n",
        "-1804.349030, 9354.770309<br/>\n",
        "10842.902062, -13500.566181<br/>\n",
        "23334.926138, 7272.139821<br/>\n",
        "-4122.963915, -7844.890710<br/>\n",
        "21918.364969, 10884.105925<br/>\n",
        "4425.724783, 37811.016564<br/>\n",
        "3339.244285, 17247.805257<br/>\n",
        "-4518.674120, 20087.271640<br/>\n",
        "<br/>\n",
        "real\t1m24.852s<br/>\n",
        "user\t0m35.606s<br/>\n",
        "sys\t0m48.803s<br/>"
      ],
      "metadata": {
        "id": "6pyYQJ0OaMVH"
      }
    },
    {
      "cell_type": "code",
      "source": [
        "%%shell\n",
        "\n",
        "cd Parallel_Programming/Assignment_CUDA/source/\n",
        "time ./k_means -f ./data/example4_k8_m10000.txt -k 8 -i 10000 -b 1 -t 1"
      ],
      "metadata": {
        "colab": {
          "base_uri": "https://localhost:8080/"
        },
        "id": "vNUF559AYN1h",
        "outputId": "4c722067-8b1c-462f-e88e-a21da8b17c13"
      },
      "execution_count": null,
      "outputs": [
        {
          "output_type": "stream",
          "name": "stdout",
          "text": [
            "Reading from data file: ./data/example4_k8_m10000.txt.\n",
            "Finding 8 clusters\n",
            "Block count is 1, threads per block is 1\n",
            "centers found:\n",
            "-1804.349030, 9354.770309\n",
            "10842.902062, -13500.566181\n",
            "23334.926138, 7272.139821\n",
            "-4122.963915, -7844.890710\n",
            "21918.364969, 10884.105925\n",
            "4425.724783, 37811.016564\n",
            "3339.244285, 17247.805257\n",
            "-4518.674120, 20087.271640\n",
            "\n",
            "real\t1m24.852s\n",
            "user\t0m35.606s\n",
            "sys\t0m48.803s\n"
          ]
        },
        {
          "output_type": "execute_result",
          "data": {
            "text/plain": []
          },
          "metadata": {},
          "execution_count": 14
        }
      ]
    },
    {
      "cell_type": "markdown",
      "source": [
        "#### Test Case 5\n",
        "\n",
        "Correct output:<br/>\n",
        "\n",
        "Reading from data file: ./data/example5_k10_m10000.txt.<br/>\n",
        "Finding 10 clusters<br/>\n",
        "Block count is 1, threads per block is 1<br/>\n",
        "centers found:<br/>\n",
        "38507.336582, 2184.571872<br/>\n",
        "699.672807, 1023.901675<br/>\n",
        "2285.747222, 16740.932741<br/>\n",
        "21669.524217, -18506.643892<br/>\n",
        "7993.460776, 23387.468824<br/>\n",
        "-3170.533475, 32650.715073<br/>\n",
        "-35903.837005, -20043.251391<br/>\n",
        "38436.870316, 2134.213282<br/>\n",
        "-26618.411531, 32616.346550<br/>\n",
        "5001.140812, -29326.908873<br/>\n",
        "<br/>\n",
        "real\t1m59.900s<br/>\n",
        "user\t0m50.915s<br/>\n",
        "sys\t1m8.369s<br/>\n",
        "\n"
      ],
      "metadata": {
        "id": "15l6XYSWaVhG"
      }
    },
    {
      "cell_type": "code",
      "source": [
        "%%shell\n",
        "\n",
        "cd Parallel_Programming/Assignment_CUDA/source/\n",
        "time ./k_means -f ./data/example5_k10_m10000.txt -k 10 -i 10000 -b 1 -t 1"
      ],
      "metadata": {
        "colab": {
          "base_uri": "https://localhost:8080/"
        },
        "id": "LtCXtEa8YTdQ",
        "outputId": "ef0f992e-648f-4be3-a423-dbb29c571c65"
      },
      "execution_count": null,
      "outputs": [
        {
          "output_type": "stream",
          "name": "stdout",
          "text": [
            "Reading from data file: ./data/example5_k10_m10000.txt.\n",
            "Finding 10 clusters\n",
            "Block count is 1, threads per block is 1\n",
            "centers found:\n",
            "38507.336582, 2184.571872\n",
            "699.672807, 1023.901675\n",
            "2285.747222, 16740.932741\n",
            "21669.524217, -18506.643892\n",
            "7993.460776, 23387.468824\n",
            "-3170.533475, 32650.715073\n",
            "-35903.837005, -20043.251391\n",
            "38436.870316, 2134.213282\n",
            "-26618.411531, 32616.346550\n",
            "5001.140812, -29326.908873\n",
            "\n",
            "real\t1m59.900s\n",
            "user\t0m50.915s\n",
            "sys\t1m8.369s\n"
          ]
        },
        {
          "output_type": "execute_result",
          "data": {
            "text/plain": []
          },
          "metadata": {},
          "execution_count": 15
        }
      ]
    },
    {
      "cell_type": "markdown",
      "source": [
        "### Step 7: Test with Multiple Threads\n",
        "1. Please use the followign code cells to test your program.\n",
        "2. You should see speedup with more threads over the above single thread executions for at least the last two larger test cases"
      ],
      "metadata": {
        "id": "M4fdsUaaalj-"
      }
    },
    {
      "cell_type": "markdown",
      "source": [
        "#### Test case 1\n",
        "\n",
        "Correct output:<br/>\n",
        "Reading from data file: ./data/example1_k2_m10.txt.<br/>\n",
        "Finding 2 clusters<br/>\n",
        "Block count is 1, threads per block is 1<br/>\n",
        "centers found:<br/>\n",
        "-85.972000, -13.155800<br/>\n",
        "40.270400, -185.246600<br/>\n",
        "<br/>\n",
        "real\t0m0.226s<br/>\n",
        "user\t0m0.018s<br/>\n",
        "sys\t0m0.200s<br/>"
      ],
      "metadata": {
        "id": "hN8PKFcSalkA"
      }
    },
    {
      "cell_type": "code",
      "source": [
        "%%shell\n",
        "\n",
        "cd Parallel_Programming/Assignment_CUDA/source/\n",
        "time ./k_means -f ./data/example1_k2_m10.txt -k 2 -i 100 -b 8 -t 32"
      ],
      "metadata": {
        "colab": {
          "base_uri": "https://localhost:8080/"
        },
        "outputId": "343536e2-1fc7-4b00-9207-078f607ec5bf",
        "id": "4LPAwS41alkB"
      },
      "execution_count": null,
      "outputs": [
        {
          "output_type": "stream",
          "name": "stdout",
          "text": [
            "Reading from data file: ./data/example1_k2_m10.txt.\n",
            "Finding 2 clusters\n",
            "Block count is 8, threads per block is 32\n",
            "centers found:\n",
            "-85.972000, -13.155800\n",
            "40.270400, -185.246600\n",
            "\n",
            "real\t0m0.226s\n",
            "user\t0m0.018s\n",
            "sys\t0m0.200s\n"
          ]
        },
        {
          "output_type": "execute_result",
          "data": {
            "text/plain": []
          },
          "metadata": {},
          "execution_count": 16
        }
      ]
    },
    {
      "cell_type": "markdown",
      "source": [
        "#### Test Case 2\n",
        "\n",
        "Correct output:<br/>\n",
        "Reading from data file: ./data/example2_k3_m30.txt.<br/>\n",
        "Finding 3 clusters<br/>\n",
        "Block count is 1, threads per block is 1<br/>\n",
        "centers found:<br/>\n",
        "-176.246700, -142.167900<br/>\n",
        "66.007900, 197.753900<br/>\n",
        "172.386200, 43.032900<br/>\n",
        "<br/>\n",
        "real\t0m0.285s<br/>\n",
        "user\t0m0.031s<br/>\n",
        "sys\t0m0.231s<br/>"
      ],
      "metadata": {
        "id": "6FujR4DQalkD"
      }
    },
    {
      "cell_type": "code",
      "source": [
        "%%shell\n",
        "\n",
        "cd Parallel_Programming/Assignment_CUDA/source/\n",
        "time ./k_means -f ./data/example2_k3_m30.txt -k 3 -i 100 -b 8 -t 32"
      ],
      "metadata": {
        "colab": {
          "base_uri": "https://localhost:8080/"
        },
        "outputId": "74e98db7-fe68-4f6c-dd23-b9d1c3746607",
        "id": "u53spFTvalkF"
      },
      "execution_count": null,
      "outputs": [
        {
          "output_type": "stream",
          "name": "stdout",
          "text": [
            "Reading from data file: ./data/example2_k3_m30.txt.\n",
            "Finding 3 clusters\n",
            "Block count is 8, threads per block is 32\n",
            "centers found:\n",
            "-176.246700, -142.167900\n",
            "66.007900, 197.753900\n",
            "172.386200, 43.032900\n",
            "\n",
            "real\t0m0.285s\n",
            "user\t0m0.031s\n",
            "sys\t0m0.231s\n"
          ]
        },
        {
          "output_type": "execute_result",
          "data": {
            "text/plain": []
          },
          "metadata": {},
          "execution_count": 17
        }
      ]
    },
    {
      "cell_type": "markdown",
      "source": [
        "#### Test Case 3\n",
        "\n",
        "Correct output:<br/>\n",
        "Reading from data file: ./data/example3_k5_m500.txt.<br/>\n",
        "Finding 5 clusters<br/>\n",
        "Block count is 1, threads per block is 1<br/>\n",
        "centers found:<br/>\n",
        "120.734130, 133.607720<br/>\n",
        "-112.846840, 138.489590<br/>\n",
        "-70.184220, -71.774100<br/>\n",
        "-27.182890, 192.848140<br/>\n",
        "-174.815190, -45.055060<br/>\n",
        "<br/>\n",
        "real\t0m0.270s<br/>\n",
        "user\t0m0.067s<br/>\n",
        "sys\t0m0.195s<br/>"
      ],
      "metadata": {
        "id": "6u3x2CXlalkH"
      }
    },
    {
      "cell_type": "code",
      "source": [
        "%%shell\n",
        "\n",
        "cd Parallel_Programming/Assignment_CUDA/source/\n",
        "time ./k_means -f ./data/example3_k5_m500.txt -k 5 -i 100 -b 8 -t 32"
      ],
      "metadata": {
        "colab": {
          "base_uri": "https://localhost:8080/"
        },
        "outputId": "e34585a1-ea66-4532-b0c3-2cb9c7364bc2",
        "id": "nSyRK6TealkI"
      },
      "execution_count": null,
      "outputs": [
        {
          "output_type": "stream",
          "name": "stdout",
          "text": [
            "Reading from data file: ./data/example3_k5_m500.txt.\n",
            "Finding 5 clusters\n",
            "Block count is 8, threads per block is 32\n",
            "centers found:\n",
            "120.734130, 133.607720\n",
            "-112.846840, 138.489590\n",
            "-70.184220, -71.774100\n",
            "-27.182890, 192.848140\n",
            "-174.815190, -45.055060\n",
            "\n",
            "real\t0m0.270s\n",
            "user\t0m0.067s\n",
            "sys\t0m0.195s\n"
          ]
        },
        {
          "output_type": "execute_result",
          "data": {
            "text/plain": []
          },
          "metadata": {},
          "execution_count": 18
        }
      ]
    },
    {
      "cell_type": "markdown",
      "source": [
        "#### Test Case 4\n",
        "\n",
        "Correct output:<br/>\n",
        "Reading from data file: ./data/example4_k8_m10000.txt.<br/>\n",
        "Finding 8 clusters<br/>\n",
        "Block count is 1, threads per block is 1<br/>\n",
        "centers found:<br/>\n",
        "-1804.349030, 9354.770309<br/>\n",
        "10842.902062, -13500.566181<br/>\n",
        "23334.926138, 7272.139821<br/>\n",
        "-4122.963915, -7844.890710<br/>\n",
        "21918.364969, 10884.105925<br/>\n",
        "4425.724783, 37811.016564<br/>\n",
        "3339.244285, 17247.805257<br/>\n",
        "-4518.674120, 20087.271640<br/>\n",
        "<br/>\n",
        "real\t0m1.498s<br/>\n",
        "user\t0m0.579s<br/>\n",
        "sys\t0m0.911s<br/>"
      ],
      "metadata": {
        "id": "X-bg37FXalkJ"
      }
    },
    {
      "cell_type": "code",
      "source": [
        "%%shell\n",
        "\n",
        "cd Parallel_Programming/Assignment_CUDA/source/\n",
        "time ./k_means -f ./data/example4_k8_m10000.txt -k 8 -i 10000 -b 8 -t 32"
      ],
      "metadata": {
        "colab": {
          "base_uri": "https://localhost:8080/"
        },
        "outputId": "233835b6-3eea-4e0a-d835-c3009d2aa17c",
        "id": "FWwcr6VMalkK"
      },
      "execution_count": null,
      "outputs": [
        {
          "output_type": "stream",
          "name": "stdout",
          "text": [
            "Reading from data file: ./data/example4_k8_m10000.txt.\n",
            "Finding 8 clusters\n",
            "Block count is 8, threads per block is 32\n",
            "centers found:\n",
            "-1804.349030, 9354.770309\n",
            "10842.902062, -13500.566181\n",
            "23334.926138, 7272.139821\n",
            "-4122.963915, -7844.890710\n",
            "21918.364969, 10884.105925\n",
            "4425.724783, 37811.016564\n",
            "3339.244285, 17247.805257\n",
            "-4518.674120, 20087.271640\n",
            "\n",
            "real\t0m1.498s\n",
            "user\t0m0.579s\n",
            "sys\t0m0.911s\n"
          ]
        },
        {
          "output_type": "execute_result",
          "data": {
            "text/plain": []
          },
          "metadata": {},
          "execution_count": 19
        }
      ]
    },
    {
      "cell_type": "markdown",
      "source": [
        "#### Test Case 5\n",
        "\n",
        "Correct output:<br/>\n",
        "\n",
        "Reading from data file: ./data/example5_k10_m10000.txt.<br/>\n",
        "Finding 10 clusters<br/>\n",
        "Block count is 1, threads per block is 1<br/>\n",
        "centers found:<br/>\n",
        "38507.336582, 2184.571872<br/>\n",
        "699.672807, 1023.901675<br/>\n",
        "2285.747222, 16740.932741<br/>\n",
        "21669.524217, -18506.643892<br/>\n",
        "7993.460776, 23387.468824<br/>\n",
        "-3170.533475, 32650.715073<br/>\n",
        "-35903.837005, -20043.251391<br/>\n",
        "38436.870316, 2134.213282<br/>\n",
        "-26618.411531, 32616.346550<br/>\n",
        "5001.140812, -29326.908873<br/>\n",
        "<br/>\n",
        "real\t0m1.826s<br/>\n",
        "user\t0m0.681s<br/>\n",
        "sys\t0m1.089s<br/>\n",
        "\n"
      ],
      "metadata": {
        "id": "WPXOAs_halkL"
      }
    },
    {
      "cell_type": "code",
      "source": [
        "%%shell\n",
        "\n",
        "cd Parallel_Programming/Assignment_CUDA/source/\n",
        "time ./k_means -f ./data/example5_k10_m10000.txt -k 10 -i 10000 -b 8 -t 32"
      ],
      "metadata": {
        "colab": {
          "base_uri": "https://localhost:8080/"
        },
        "outputId": "df54dd1e-91af-4921-a85b-bfd9bc6457ba",
        "id": "orzKsaV2alkM"
      },
      "execution_count": null,
      "outputs": [
        {
          "output_type": "stream",
          "name": "stdout",
          "text": [
            "Reading from data file: ./data/example5_k10_m10000.txt.\n",
            "Finding 10 clusters\n",
            "Block count is 8, threads per block is 32\n",
            "centers found:\n",
            "38507.336582, 2184.571872\n",
            "699.672807, 1023.901675\n",
            "2285.747222, 16740.932741\n",
            "21669.524217, -18506.643892\n",
            "7993.460777, 23387.468824\n",
            "-3170.533475, 32650.715073\n",
            "-35903.837005, -20043.251391\n",
            "38436.870316, 2134.213282\n",
            "-26618.411531, 32616.346550\n",
            "5001.140812, -29326.908873\n",
            "\n",
            "real\t0m1.826s\n",
            "user\t0m0.681s\n",
            "sys\t0m1.089s\n"
          ]
        },
        {
          "output_type": "execute_result",
          "data": {
            "text/plain": []
          },
          "metadata": {},
          "execution_count": 20
        }
      ]
    },
    {
      "cell_type": "markdown",
      "source": [
        "Again, please **make sure you download and save your k_means.cu!!!**"
      ],
      "metadata": {
        "id": "vFGpnDfHcRwu"
      }
    }
  ]
}